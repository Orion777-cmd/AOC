{
 "cells": [
  {
   "cell_type": "markdown",
   "metadata": {},
   "source": [
    "--- Day 12: Hill Climbing Algorithm ---\n",
    "You try contacting the Elves using your handheld device, but the river you're following must be too low to get a decent signal.\n",
    "\n",
    "You ask the device for a heightmap of the surrounding area (your puzzle input). The heightmap shows the local area from above broken into a grid; the elevation of each square of the grid is given by a single lowercase letter, where a is the lowest elevation, b is the next-lowest, and so on up to the highest elevation, z.\n",
    "\n",
    "Also included on the heightmap are marks for your current position (S) and the location that should get the best signal (E). Your current position (S) has elevation a, and the location that should get the best signal (E) has elevation z.\n",
    "\n",
    "You'd like to reach E, but to save energy, you should do it in as few steps as possible. During each step, you can move exactly one square up, down, left, or right. To avoid needing to get out your climbing gear, the elevation of the destination square can be at most one higher than the elevation of your current square; that is, if your current elevation is m, you could step to elevation n, but not to elevation o. (This also means that the elevation of the destination square can be much lower than the elevation of your current square.)\n",
    "\n",
    "For example:\n",
    "\n",
    "Sabqponm\n",
    "abcryxxl\n",
    "accszExk\n",
    "acctuvwj\n",
    "abdefghi\n",
    "Here, you start in the top-left corner; your goal is near the middle. You could start by moving down or right, but eventually you'll need to head toward the e at the bottom. From there, you can spiral around to the goal:\n",
    "\n",
    "v..v<<<<\n",
    ">v.vv<<^\n",
    ".>vv>E^^\n",
    "..v>>>^^\n",
    "..>>>>>^\n",
    "In the above diagram, the symbols indicate whether the path exits each square moving up (^), down (v), left (<), or right (>). The location that should get the best signal is still E, and . marks unvisited squares.\n",
    "\n",
    "This path reaches the goal in 31 steps, the fewest possible.\n",
    "\n",
    "What is the fewest steps required to move from your current position to the location that should get the best signal?"
   ]
  },
  {
   "cell_type": "code",
   "execution_count": 27,
   "metadata": {},
   "outputs": [
    {
     "name": "stdout",
     "output_type": "stream",
     "text": [
      "S\n",
      "[['S', 'a', 'b', 'q', 'p', 'o', 'n', 'm'], ['a', 'b', 'c', 'r', 'y', 'x', 'x', 'l'], ['a', 'c', 'c', 's', 'z', 'E', 'x', 'k'], ['a', 'c', 'c', 't', 'u', 'v', 'w', 'j'], ['a', 'b', 'd', 'e', 'f', 'g', 'h', 'i']]\n"
     ]
    }
   ],
   "source": [
    "#reading from the inputData\n",
    "grid = []\n",
    "\n",
    "with open('testData.txt', 'r') as file:\n",
    "    row = 0\n",
    "    for line in file:\n",
    "\n",
    "        line = line.strip()\n",
    "        line = line.split(',')\n",
    "        temp = []\n",
    "        for ch in line[0]:\n",
    "            if ch == \"S\":\n",
    "                start = row\n",
    "            temp.append(ch)\n",
    "        \n",
    "        grid.append(temp)\n",
    "        row += 1\n",
    "\n",
    "print(grid[start][0])\n",
    "\n",
    "print(grid)\n",
    "\n",
    "# grid = open(\"day.12.input.txt\", \"r\").read().split('\\n')\n",
    "\n"
   ]
  },
  {
   "cell_type": "code",
   "execution_count": 28,
   "metadata": {},
   "outputs": [
    {
     "data": {
      "text/plain": [
       "31"
      ]
     },
     "execution_count": 28,
     "metadata": {},
     "output_type": "execute_result"
    }
   ],
   "source": [
    "import sys,  collections\n",
    "\n",
    "def main(grid, *start):\n",
    "    queue = collections.deque((i, j, 0, 'a') for i in range(len(grid)) \n",
    "                    for j in range(len(grid[i])) \n",
    "                    if grid[i][j] in start)\n",
    "    \n",
    "    visited = set((i, j) for i, j, _, _ in queue)\n",
    "\n",
    "    def push(i , j, step, low):\n",
    "        if i < 0 or i  >= len(grid) or j < 0 or j >= len(grid[0]) or (i, j) in visited: \n",
    "            return \n",
    "        \n",
    "        high= grid[i][j].replace(\"E\", 'z')\n",
    "\n",
    "        if ord(high) > ord(low) + 1: return \n",
    "\n",
    "        visited.add((i, j))\n",
    "\n",
    "        queue.append((i, j, step+1, high ))\n",
    "\n",
    "    while queue:\n",
    "        i, j, step, low = queue.popleft()\n",
    "        if grid[i][j] == \"E\": return step\n",
    "\n",
    "        push(i+1, j, step, low)\n",
    "        push(i-1, j, step, low)\n",
    "        push(i, j+1, step, low)\n",
    "        push(i, j-1, step, low)\n",
    "\n",
    "main(grid, \"S\")\n",
    "\n",
    "\n",
    "\n",
    "    "
   ]
  },
  {
   "cell_type": "markdown",
   "metadata": {},
   "source": [
    "--- Part Two ---\n",
    "\n",
    "As you walk up the hill, you suspect that the Elves will want to turn this into a hiking trail. The beginning isn't very scenic, though; perhaps you can find a better starting point.\n",
    "\n",
    "To maximize exercise while hiking, the trail should start as low as possible: elevation a. The goal is still the square marked E. However, the trail should still be direct, taking the fewest steps to reach its goal. So, you'll need to find the shortest path from any square at elevation a to the square marked E.\n",
    "\n",
    "Again consider the example from above:\n",
    "\n",
    "Sabqponm\n",
    "\n",
    "abcryxxl\n",
    "\n",
    "accszExk\n",
    "\n",
    "acctuvwj\n",
    "\n",
    "abdefghi\n",
    "\n",
    "Now, there are six choices for starting position (five marked a, plus the square marked S that counts as being at elevation a). If you start at the bottom-left square, you can reach the goal most quickly:\n",
    "\n",
    "...v<<<<\n",
    "...vv<<^\n",
    "...v>E^^\n",
    ".>v>>>^^\n",
    ">^>>>>>^\n",
    "This path reaches the goal in only 29 steps, the fewest possible.\n",
    "\n",
    "What is the fewest steps required to move starting from any square with elevation a to the location that should get the best signal?"
   ]
  },
  {
   "cell_type": "code",
   "execution_count": 29,
   "metadata": {},
   "outputs": [
    {
     "data": {
      "text/plain": [
       "29"
      ]
     },
     "execution_count": 29,
     "metadata": {},
     "output_type": "execute_result"
    }
   ],
   "source": [
    "main(grid, \"S\", \"a\")"
   ]
  }
 ],
 "metadata": {
  "kernelspec": {
   "display_name": "Python 3",
   "language": "python",
   "name": "python3"
  },
  "language_info": {
   "codemirror_mode": {
    "name": "ipython",
    "version": 3
   },
   "file_extension": ".py",
   "mimetype": "text/x-python",
   "name": "python",
   "nbconvert_exporter": "python",
   "pygments_lexer": "ipython3",
   "version": "3.11.0"
  },
  "orig_nbformat": 4
 },
 "nbformat": 4,
 "nbformat_minor": 2
}
